{
 "cells": [
  {
   "cell_type": "code",
   "execution_count": 1,
   "metadata": {
    "collapsed": false
   },
   "outputs": [],
   "source": [
    "from collections import defaultdict, Counter\n",
    "from sklearn.base import BaseEstimator\n",
    "from sklearn.metrics import accuracy_score\n",
    "from sklearn.ensemble import VotingClassifier\n",
    "import numpy as np\n",
    "from copy import deepcopy\n",
    "\n",
    "class CrowdMachineClassifier(BaseEstimator):\n",
    "\n",
    "    \"\"\"Crowd Machine for ensembling the predictions of supervised machine learning methods\"\"\"\n",
    "\n",
    "    def __init__(self, estimators, default_label):\n",
    "        \"\"\"Sets up the Crowd Machine\n",
    "\n",
    "        Parameters\n",
    "        ----------\n",
    "        estimators: list\n",
    "            A list of machine learning method instances to be included in the Crowd Machine.\n",
    "            These instances must be scikit-learn compatible estimators.\n",
    "        default_label: integer\n",
    "            The default value that the Crowd Machine will assign to a data instance type that\n",
    "            it has not encountered during the training phase.\n",
    "\n",
    "        Returns\n",
    "        -------\n",
    "        None\n",
    "\n",
    "        \"\"\"\n",
    "        self.estimators = deepcopy(estimators)\n",
    "        self.default_label = default_label\n",
    "        self.crowd_ensemble = None\n",
    "        self.crowd_matrix = None\n",
    "        self.prediction_matrix = None\n",
    "\n",
    "    def fit(self, features, class_labels):\n",
    "        \"\"\"Constructs the Crowd Machine prediction matrix from the training data\n",
    "\n",
    "        Parameters\n",
    "        ----------\n",
    "        features: array-like {n_samples, n_features}\n",
    "            Feature matrix\n",
    "\n",
    "        class_labels: array-like {n_samples}\n",
    "            List of true class labels\n",
    "\n",
    "        Returns\n",
    "        -------\n",
    "        Returns a copy of the CrowdMachineClassifier instance to allow for function chaining\n",
    "\n",
    "        \"\"\"\n",
    "        # Group the true class labels by the predicted labels from the machines in the crowd\n",
    "        estimator_tuples = list(zip(range(len(self.estimators)), self.estimators))\n",
    "        self.crowd_ensemble = VotingClassifier(estimators=estimator_tuples, voting='hard')\n",
    "        crowd_predictions = self.crowd_ensemble.fit_transform(features, class_labels)\n",
    "        \n",
    "        self.crowd_matrix = defaultdict(list)\n",
    "        for crowd_prediction, class_label in zip(crowd_predictions, class_labels):\n",
    "            self.crowd_matrix[tuple(crowd_prediction)].append(class_label)\n",
    "        \n",
    "        # The final prediction for each cell in the Crowd Machine prediction matrix is the most\n",
    "        # frequent prediction in that cell\n",
    "        self.prediction_matrix = defaultdict(int)\n",
    "        for prediction_tuple in self.crowd_matrix:\n",
    "            self.prediction_matrix[prediction_tuple] = Counter(\n",
    "                self.crowd_matrix[prediction_tuple]).most_common(1)[0][0]\n",
    "        \n",
    "        self.prediction_matrix = dict(self.prediction_matrix)\n",
    "        return self\n",
    "\n",
    "    def predict(self, features):\n",
    "        \"\"\"Uses the Crowd Machine prediction matrix to create predictions for the provided features\n",
    "\n",
    "        Parameters\n",
    "        ----------\n",
    "        features: array-like {n_samples, n_features}\n",
    "            Feature matrix to create predictions for\n",
    "\n",
    "        Returns\n",
    "        ----------\n",
    "        array-like: {n_samples}\n",
    "            Class predictions from the provided feature matrix\n",
    "\n",
    "        \"\"\"\n",
    "        if self.prediction_matrix is None:\n",
    "            raise ValueError('The Crowd Machine must be fit before predict can be called')\n",
    "        \n",
    "        crowd_predictions = self.crowd_ensemble.transform(features)\n",
    "        predictions = []\n",
    "        for crowd_prediction in crowd_predictions:\n",
    "            try:\n",
    "                predictions.append(self.prediction_matrix[tuple(crowd_prediction)])\n",
    "            except KeyError:\n",
    "                predictions.append(self.default_label)\n",
    "\n",
    "        return np.array(predictions)\n",
    "\n",
    "    def fit_predict(self, features, class_labels):\n",
    "        \"\"\"Convenience function that fits the provided features then returns the predictions\n",
    "\n",
    "        Parameters\n",
    "        ----------\n",
    "        features: array-like {n_samples, n_features}\n",
    "            Feature matrix\n",
    "        class_labels: array-like {n_samples}\n",
    "            List of true class labels\n",
    "\n",
    "        Returns\n",
    "        ----------\n",
    "        array-like: {n_samples}\n",
    "            Class predictions from the provided feature matrix\n",
    "\n",
    "        \"\"\"\n",
    "        self.fit(features, class_labels)\n",
    "        return self.predict(features)\n",
    "\n",
    "    def score(self, features, class_labels, scoring_function=None, **scoring_function_kwargs):\n",
    "        \"\"\"Estimates the accuracy of the predictions from the constructed feature\n",
    "\n",
    "        Parameters\n",
    "        ----------\n",
    "        features: array-like {n_samples, n_features}\n",
    "            Feature matrix to predict from\n",
    "        class_labels: array-like {n_samples}\n",
    "            List of true class labels\n",
    "\n",
    "        Returns\n",
    "        -------\n",
    "        accuracy_score: float\n",
    "            The estimated accuracy of the Crowd Machine\n",
    "\n",
    "        \"\"\"\n",
    "        if self.prediction_matrix is None:\n",
    "            raise ValueError('The Crowd Machine must be fit before score can be called')\n",
    "\n",
    "        predictions = self.predict(features)\n",
    "\n",
    "        if scoring_function is None:\n",
    "            return accuracy_score(class_labels, predictions)\n",
    "        else:\n",
    "            return scoring_function(class_labels, predictions, **scoring_function_kwargs)\n"
   ]
  },
  {
   "cell_type": "code",
   "execution_count": 2,
   "metadata": {
    "collapsed": false
   },
   "outputs": [
    {
     "data": {
      "text/plain": [
       "0.89600000000000002"
      ]
     },
     "execution_count": 2,
     "metadata": {},
     "output_type": "execute_result"
    }
   ],
   "source": [
    "from sklearn.ensemble import RandomForestClassifier\n",
    "from sklearn.datasets import make_classification\n",
    "from sklearn.model_selection import train_test_split\n",
    "\n",
    "clf = CrowdMachineClassifier(estimators=[\n",
    "                                         RandomForestClassifier(n_estimators=10, n_jobs=-1, random_state=2),\n",
    "                                         RandomForestClassifier(n_estimators=50, n_jobs=-1, random_state=2),\n",
    "                                         RandomForestClassifier(n_estimators=100, n_jobs=-1, random_state=2)\n",
    "                                        ],\n",
    "                             default_label=0)\n",
    "\n",
    "X, y = make_classification(n_samples=1000, n_features=100, random_state=2)\n",
    "\n",
    "X_train, X_test, y_train, y_test = train_test_split(X, y, random_state=2)\n",
    "\n",
    "clf.fit(X_train, y_train)\n",
    "clf.score(X_test, y_test)"
   ]
  },
  {
   "cell_type": "code",
   "execution_count": 3,
   "metadata": {
    "collapsed": false
   },
   "outputs": [
    {
     "data": {
      "text/plain": [
       "0.89600000000000002"
      ]
     },
     "execution_count": 3,
     "metadata": {},
     "output_type": "execute_result"
    }
   ],
   "source": [
    "clf = RandomForestClassifier(n_estimators=10, n_jobs=-1, random_state=2)\n",
    "clf.fit(X_train, y_train)\n",
    "clf.score(X_test, y_test)"
   ]
  },
  {
   "cell_type": "code",
   "execution_count": 4,
   "metadata": {
    "collapsed": false
   },
   "outputs": [
    {
     "data": {
      "text/plain": [
       "0.90400000000000003"
      ]
     },
     "execution_count": 4,
     "metadata": {},
     "output_type": "execute_result"
    }
   ],
   "source": [
    "clf = RandomForestClassifier(n_estimators=50, n_jobs=-1, random_state=2)\n",
    "clf.fit(X_train, y_train)\n",
    "clf.score(X_test, y_test)"
   ]
  },
  {
   "cell_type": "code",
   "execution_count": 5,
   "metadata": {
    "collapsed": false
   },
   "outputs": [
    {
     "data": {
      "text/plain": [
       "0.89600000000000002"
      ]
     },
     "execution_count": 5,
     "metadata": {},
     "output_type": "execute_result"
    }
   ],
   "source": [
    "clf = RandomForestClassifier(n_estimators=100, n_jobs=-1, random_state=2)\n",
    "clf.fit(X_train, y_train)\n",
    "clf.score(X_test, y_test)"
   ]
  },
  {
   "cell_type": "code",
   "execution_count": null,
   "metadata": {
    "collapsed": true
   },
   "outputs": [],
   "source": []
  },
  {
   "cell_type": "code",
   "execution_count": null,
   "metadata": {
    "collapsed": true
   },
   "outputs": [],
   "source": []
  },
  {
   "cell_type": "code",
   "execution_count": null,
   "metadata": {
    "collapsed": true
   },
   "outputs": [],
   "source": []
  },
  {
   "cell_type": "code",
   "execution_count": null,
   "metadata": {
    "collapsed": true
   },
   "outputs": [],
   "source": []
  },
  {
   "cell_type": "code",
   "execution_count": null,
   "metadata": {
    "collapsed": true
   },
   "outputs": [],
   "source": []
  },
  {
   "cell_type": "code",
   "execution_count": null,
   "metadata": {
    "collapsed": true
   },
   "outputs": [],
   "source": []
  },
  {
   "cell_type": "code",
   "execution_count": null,
   "metadata": {
    "collapsed": true
   },
   "outputs": [],
   "source": []
  },
  {
   "cell_type": "code",
   "execution_count": null,
   "metadata": {
    "collapsed": true
   },
   "outputs": [],
   "source": []
  },
  {
   "cell_type": "code",
   "execution_count": null,
   "metadata": {
    "collapsed": true
   },
   "outputs": [],
   "source": []
  }
 ],
 "metadata": {
  "anaconda-cloud": {},
  "kernelspec": {
   "display_name": "Python [conda root]",
   "language": "python",
   "name": "conda-root-py"
  },
  "language_info": {
   "codemirror_mode": {
    "name": "ipython",
    "version": 3
   },
   "file_extension": ".py",
   "mimetype": "text/x-python",
   "name": "python",
   "nbconvert_exporter": "python",
   "pygments_lexer": "ipython3",
   "version": "3.5.2"
  }
 },
 "nbformat": 4,
 "nbformat_minor": 2
}
